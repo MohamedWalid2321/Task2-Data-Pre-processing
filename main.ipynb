{
 "cells": [
  {
   "cell_type": "code",
   "execution_count": 63,
   "id": "8eb52c95",
   "metadata": {},
   "outputs": [],
   "source": [
    "import pandas as pd\n",
    "import numpy as np\n",
    "from sklearn.utils import resample"
   ]
  },
  {
   "cell_type": "code",
   "execution_count": null,
   "id": "f23c56fd",
   "metadata": {},
   "outputs": [],
   "source": [
    "data=pd.read_csv('BMWsales.csv')\n",
    "#cleaning process\n",
    "\n",
    "#1) chech for missing values\n",
    "data.isnull().sum()\n",
    "\n",
    "#data is not having any missing values\n"
   ]
  },
  {
   "cell_type": "code",
   "execution_count": null,
   "id": "9578a3aa",
   "metadata": {},
   "outputs": [],
   "source": [
    "#2) check for duplicated values\n",
    "data.duplicated().sum()\n",
    "\n",
    "#data is not having any duplicated values"
   ]
  },
  {
   "cell_type": "code",
   "execution_count": null,
   "id": "561439e8",
   "metadata": {},
   "outputs": [
    {
     "name": "stdout",
     "output_type": "stream",
     "text": [
      "All entries in numeric columns are valid.\n",
      "All entries in numeric columns are valid.\n",
      "All entries in numeric columns are valid.\n",
      "All entries in numeric columns are valid.\n",
      "All entries in numeric columns are valid.\n",
      "All entries in categorical columns are valid.\n",
      "All entries in categorical columns are valid.\n",
      "All entries in categorical columns are valid.\n",
      "All entries in categorical columns are valid.\n",
      "All entries in categorical columns are valid.\n",
      "All entries in categorical columns are valid.\n",
      "All entries in categorical columns are valid.\n"
     ]
    }
   ],
   "source": [
    "#3) check for incorrect entries and data types issues\n",
    "\n",
    "#check for any miss spelling or inconsistent entries in categorical columns\n",
    "\n",
    "#print(data['Model'].unique())\n",
    "#print(data['Region'].unique())\n",
    "#print(data['Color'].unique())\n",
    "#print(data['Fuel_Type'].unique())\n",
    "#print(data['Transmission'].unique())\n",
    "#print(data['Sales_Classification'].value_counts())\n",
    "\n",
    "\n",
    "#check if the columns is in the right data type\n",
    "\n",
    "#print(data.dtypes) \n",
    "\n",
    "#chech if there is a text in a numeric column\n",
    "\n",
    "numeric_cols = data[['Year','Sales_Volume', 'Engine_Size_L','Mileage_KM','Price_USD']]  \n",
    "\n",
    "for col in numeric_cols:\n",
    "    invalid_rows = data[~data[col].apply(lambda x: isinstance(x, (int, float)))]\n",
    "    if not invalid_rows.empty:\n",
    "        print(f\"\\nColumn '{col}' has non-numeric entries:\")\n",
    "        print(invalid_rows[[col]])\n",
    "    else:\n",
    "        print(\"All entries in numeric columns are valid.\")    \n",
    "\n",
    "#chech if there is a numeric value in a categorical column\n",
    "\n",
    "categorical_cols = data[['Region', 'Fuel_Type','Model','Color','Fuel_Type','Transmission','Sales_Classification']]  \n",
    "\n",
    "for col in categorical_cols:\n",
    "    invalid_rows = data[data[col].apply(lambda x: isinstance(x, (int, float)))]\n",
    "    if not invalid_rows.empty:\n",
    "        print(f\"\\nColumn '{col}' has numeric entries where text is expected:\")\n",
    "        print(invalid_rows[[col]])\n",
    "    else:\n",
    "        print(\"All entries in categorical columns are valid.\")    "
   ]
  },
  {
   "cell_type": "code",
   "execution_count": null,
   "id": "9c832f1c",
   "metadata": {},
   "outputs": [],
   "source": [
    "#4) Handling outliers\n",
    "\n",
    "numeric_cols = data[['Year','Sales_Volume', 'Engine_Size_L','Mileage_KM','Price_USD']] \n",
    "\n",
    "for col in numeric_cols:\n",
    "    Q1=data[col].quantile(0.25)\n",
    "    Q3=data[col].quantile(0.75)\n",
    "    IQR=Q3-Q1\n",
    "    lower=Q1 - 1.5 * IQR\n",
    "    upper=Q3 + 1.5 * IQR\n",
    "    outliers=data[(data[col]<lower) | (data[col]>upper)]\n",
    "    #here we gave the data[col] col now is year and is now a series\n",
    "    #the series is undergoing a condition it will check if it's true and retrun a series of boolean\n",
    "    #now outlier is a dataframe that contains all the rows that have outliers in that specific column\n",
    "    if not outliers.empty:\n",
    "        print(f\"\\nColumn '{col}' has outliers:\")\n",
    "        print(outliers[[col]])\n",
    "\n",
    "#there is no outliers in the dataset"
   ]
  },
  {
   "cell_type": "code",
   "execution_count": null,
   "id": "28100d23",
   "metadata": {},
   "outputs": [
    {
     "name": "stdout",
     "output_type": "stream",
     "text": [
      "(30492, 11)\n"
     ]
    }
   ],
   "source": [
    "#downsampling the label\n",
    "majority=data[data.Sales_Classification=='Low']\n",
    "minority=data[data.Sales_Classification=='High']\n",
    "\n",
    "majority_downsampled=resample(majority,replace=False,n_samples=len(minority),random_state=123)\n",
    "\n",
    "data_balanced=pd.concat([minority,majority_downsampled])\n"
   ]
  },
  {
   "cell_type": "code",
   "execution_count": null,
   "id": "f9275360",
   "metadata": {},
   "outputs": [],
   "source": []
  }
 ],
 "metadata": {
  "kernelspec": {
   "display_name": "base",
   "language": "python",
   "name": "python3"
  },
  "language_info": {
   "codemirror_mode": {
    "name": "ipython",
    "version": 3
   },
   "file_extension": ".py",
   "mimetype": "text/x-python",
   "name": "python",
   "nbconvert_exporter": "python",
   "pygments_lexer": "ipython3",
   "version": "3.13.5"
  }
 },
 "nbformat": 4,
 "nbformat_minor": 5
}
