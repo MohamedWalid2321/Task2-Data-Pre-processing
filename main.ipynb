{
 "cells": [
  {
   "cell_type": "code",
   "execution_count": null,
   "id": "8eb52c95",
   "metadata": {},
   "outputs": [],
   "source": [
    "\n",
    "import pandas as pd\n",
    "import numpy as np\n",
    "from sklearn.utils import resample\n",
    "from rapidfuzz import process,fuzz\n",
    "import unidecode"
   ]
  },
  {
   "cell_type": "code",
   "execution_count": null,
   "id": "f23c56fd",
   "metadata": {},
   "outputs": [],
   "source": [
    "data=pd.read_csv('Data.csv')\n",
    "#cleaning process\n",
    "\n",
    "#1) chech for missing values and calculating the percentage of missing values per column\n",
    "print(data.isnull().sum())\n",
    "print((data.isnull().sum()/len(data))*100)\n",
    "\n",
    "#data is not having any missing values\n"
   ]
  },
  {
   "cell_type": "code",
   "execution_count": null,
   "id": "9578a3aa",
   "metadata": {},
   "outputs": [],
   "source": [
    "#2) check for duplicated values\n",
    "data.duplicated().any() # returns True if there are any duplicated rows, False otherwise\n",
    "data.duplicated().sum() # returns the number of duplicated rows\n",
    "data[data.duplicated()] # returns the duplicated rows\n",
    "\n",
    "#data is not having any duplicated values"
   ]
  },
  {
   "cell_type": "code",
   "execution_count": null,
   "id": "31360b80",
   "metadata": {},
   "outputs": [],
   "source": [
    "#3) Handle inconsistent data entries\n",
    "#check if the columns is in the right data type\n",
    "\n",
    "print(data.dtypes)\n",
    "# we have Date as object we need to convert it to datetime64"
   ]
  },
  {
   "cell_type": "code",
   "execution_count": null,
   "id": "b7fb313c",
   "metadata": {},
   "outputs": [],
   "source": [
    "data[\"Date\"]=pd.to_datetime(data['Date'],errors='coerce')\n",
    "data.to_csv('Data.csv',index=False)\n",
    "print(data.dtypes)\n",
    "# all columns do not have un unified values "
   ]
  },
  {
   "cell_type": "code",
   "execution_count": null,
   "id": "561439e8",
   "metadata": {},
   "outputs": [],
   "source": [
    "#Normalize categorical values\n",
    "\n",
    "data['Date'].value_counts()     "
   ]
  },
  {
   "cell_type": "code",
   "execution_count": null,
   "id": "950b1600",
   "metadata": {},
   "outputs": [],
   "source": [
    "data['Product Category'].value_counts()"
   ]
  },
  {
   "cell_type": "code",
   "execution_count": null,
   "metadata": {},
   "outputs": [],
   "source": [
    "choices = data['Product Name'].unique()\n",
    "similar_pairs=[]\n",
    "for product in choices:\n",
    "    matches = process.extract(product, choices, limit=None, scorer=fuzz.partial_ratio)\n",
    "    for match, score,index in matches:\n",
    "        if score >=75 and product !=match:\n",
    "            pair=tuple(sorted([product,match]))\n",
    "            if pair not in similar_pairs:\n",
    "                similar_pairs.append((pair[0],pair[1],score)) \n",
    "\n",
    "for p1,p2,score in similar_pairs:\n",
    "    print(f\"'{p1}' and '{p2}' have a similarity score of {score}\") \n",
    "\n",
    "data['Product Name'].replace('MacBook Pro 16-inch','Apple MacBook Pro 16-inch',inplace=True)\n",
    "data['Product Name'].replace('Nike Air Force 1','Nike Air Force 1 Sneakers',inplace=True)\n",
    "data['Product Name'].replace('Adidas Ultraboost Shoes','Adidas Ultraboost Running Shoes',inplace=True)\n",
    "data['Product Name'].replace('Yeti Rambler Tumbler','Yeti Rambler 20 oz Tumbler',inplace=True)\n",
    "data.to_csv('Data.csv', index=False)"
   ]
  },
  {
   "cell_type": "code",
   "execution_count": null,
   "id": "72bb6bad",
   "metadata": {},
   "outputs": [],
   "source": [
    "data['Region'].value_counts()"
   ]
  },
  {
   "cell_type": "code",
   "execution_count": null,
   "id": "3f1d3408",
   "metadata": {},
   "outputs": [],
   "source": [
    "data['Payment Method'].value_counts()"
   ]
  },
  {
   "cell_type": "code",
   "execution_count": null,
   "id": "aab01f71",
   "metadata": {},
   "outputs": [],
   "source": [
    "data['Product Name']=data['Product Name'].str.strip() #this removes the space at the beginning and end of the string\n",
    "data.to_csv('Data.csv', index=False)"
   ]
  },
  {
   "cell_type": "code",
   "execution_count": null,
   "id": "984b6d1b",
   "metadata": {},
   "outputs": [],
   "source": [
    "#check for non-ASCII characters in 'Product Name' column\n",
    "import unicodedata\n",
    "\n",
    "\n",
    "mask=data['Product Name'].apply(lambda x: not all(ord(c) <128 for c in str(x))) \n",
    "#this returns a boolean series where True indicates the presence of non-ASCII characters\n",
    "data[mask]\n",
    "\n",
    "#function to normalize text by removing accents and special characters\n",
    "def normalize_text(text): \n",
    "    return unicodedata.normalize('NFKD', text).encode('ascii', 'ignore').decode('utf-8') \n",
    "data['Product Name'] = data['Product Name'].apply(normalize_text)\n",
    "data.to_csv('Data.csv', index=False)\n"
   ]
  },
  {
   "cell_type": "code",
   "execution_count": null,
   "id": "0abc976b",
   "metadata": {},
   "outputs": [],
   "source": [
    "#check for invalid values like -ve values or unreasonable values in the numerical columns\n",
    "invalid_unitSolds=data[data['Units Sold']<0]\n",
    "invalid_unitPrice=data[data['Unit Price']<0]\n",
    "invalid_totalRevenue=data[data['Total Revenue']<0]\n",
    "\n",
    "print(invalid_unitSolds)\n",
    "print(invalid_unitPrice)\n",
    "print(invalid_totalRevenue)    "
   ]
  },
  {
   "cell_type": "code",
   "execution_count": 94,
   "id": "9c832f1c",
   "metadata": {},
   "outputs": [
    {
     "name": "stdout",
     "output_type": "stream",
     "text": [
      "\n",
      "Column 'Units Sold' has outliers:\n",
      "    Units Sold\n",
      "62          10\n",
      "\n",
      "Column 'Unit Price' has outliers:\n",
      "     Unit Price\n",
      "0        999.99\n",
      "6       2499.99\n",
      "7        599.99\n",
      "12       749.99\n",
      "35      1895.00\n",
      "37       799.99\n",
      "66      1199.99\n",
      "72      1599.99\n",
      "73       899.99\n",
      "85      1299.99\n",
      "95       999.99\n",
      "102     3899.99\n",
      "120      599.99\n",
      "132     1299.99\n",
      "138     1499.99\n",
      "156      899.99\n",
      "162     1199.99\n",
      "168      699.99\n",
      "173      699.99\n",
      "180      649.99\n",
      "210      749.99\n",
      "216     2399.00\n",
      "221      599.99\n",
      "229      599.00\n",
      "\n",
      "Column 'Total Revenue' has outliers:\n",
      "     Total Revenue\n",
      "0          1999.98\n",
      "6          2499.99\n",
      "7          1199.98\n",
      "12         1499.98\n",
      "18          999.98\n",
      "35         1895.00\n",
      "36         1199.97\n",
      "37         1599.98\n",
      "42         1199.97\n",
      "66         1199.99\n",
      "72         1599.99\n",
      "85         2599.98\n",
      "95          999.99\n",
      "102        3899.99\n",
      "120        1199.98\n",
      "132        1299.99\n",
      "138        1499.99\n",
      "162        1199.99\n",
      "216        2399.00\n"
     ]
    }
   ],
   "source": [
    "#4) Handling outliers\n",
    "\n",
    "numeric_cols = data[['Units Sold', 'Unit Price', 'Total Revenue']] \n",
    "\n",
    "for col in numeric_cols:\n",
    "    Q1=data[col].quantile(0.25)\n",
    "    Q3=data[col].quantile(0.75)\n",
    "    IQR=Q3-Q1\n",
    "    lower=Q1 - 1.5 * IQR\n",
    "    upper=Q3 + 1.5 * IQR\n",
    "    outliers=data[(data[col]<lower) | (data[col]>upper)]\n",
    "    #here we gave the data[col] col now is year and is now a series\n",
    "    #the series is undergoing a condition it will check if it's true and retrun a series of boolean\n",
    "    #now outlier is a dataframe that contains all the rows that have outliers in that specific column\n",
    "    if not outliers.empty:\n",
    "        print(f\"\\nColumn '{col}' has outliers:\")\n",
    "        print(outliers[[col]])\n",
    "\n",
    "#there is no outliers in the dataset"
   ]
  }
 ],
 "metadata": {
  "kernelspec": {
   "display_name": "base",
   "language": "python",
   "name": "python3"
  },
  "language_info": {
   "codemirror_mode": {
    "name": "ipython",
    "version": 3
   },
   "file_extension": ".py",
   "mimetype": "text/x-python",
   "name": "python",
   "nbconvert_exporter": "python",
   "pygments_lexer": "ipython3",
   "version": "3.13.5"
  }
 },
 "nbformat": 4,
 "nbformat_minor": 5
}
